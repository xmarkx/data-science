{
 "cells": [
  {
   "cell_type": "markdown",
   "id": "66d61b2d",
   "metadata": {},
   "source": [
    "# Data preprocessing"
   ]
  },
  {
   "cell_type": "code",
   "execution_count": 1,
   "id": "5dcce197",
   "metadata": {},
   "outputs": [
    {
     "name": "stderr",
     "output_type": "stream",
     "text": [
      "C:\\Users\\marke\\anaconda3\\lib\\site-packages\\deeplake\\util\\check_latest_version.py:32: UserWarning: A newer version of deeplake (3.1.4) is available. It's recommended that you update to the latest version using `pip install -U deeplake`.\n",
      "  warnings.warn(\n"
     ]
    }
   ],
   "source": [
    "import deeplake\n",
    "from skimage.color import rgb2gray\n",
    "import numpy as np\n",
    "import time\n",
    "import wandb\n",
    "import matplotlib.pyplot as plt\n",
    "from datetime import datetime\n",
    "from collections import Counter\n",
    "from itertools import chain"
   ]
  },
  {
   "cell_type": "code",
   "execution_count": 2,
   "id": "3ae34746",
   "metadata": {},
   "outputs": [
    {
     "name": "stdout",
     "output_type": "stream",
     "text": [
      "hub://luizapzbn/CODEBRIM_classification_dataset-val loaded successfully.\n",
      "This dataset can be visualized in Jupyter Notebook by ds.visualize() or at https://app.activeloop.ai/luizapzbn/CODEBRIM_classification_dataset-val\n",
      "hub://luizapzbn/CODEBRIM_classification_dataset-train loaded successfully.\n",
      "This dataset can be visualized in Jupyter Notebook by ds.visualize() or at https://app.activeloop.ai/luizapzbn/CODEBRIM_classification_dataset-train\n"
     ]
    }
   ],
   "source": [
    "val_ds = deeplake.load('hub://luizapzbn/CODEBRIM_classification_dataset-val')\n",
    "train_ds = deeplake.load('hub://luizapzbn/CODEBRIM_classification_dataset-train')"
   ]
  },
  {
   "cell_type": "markdown",
   "id": "8bfab808",
   "metadata": {},
   "source": [
    "# Loading in training data"
   ]
  },
  {
   "cell_type": "code",
   "execution_count": 9,
   "id": "69950775",
   "metadata": {},
   "outputs": [],
   "source": [
    "# train set\n",
    "X_train = train_ds.images.numpy()\n",
    "y_train = train_ds.labels.data()\n",
    "train_labels = list(chain.from_iterable(train_ds.labels.data()['text']))"
   ]
  },
  {
   "cell_type": "code",
   "execution_count": 11,
   "id": "190e0c49",
   "metadata": {},
   "outputs": [
    {
     "name": "stdout",
     "output_type": "stream",
     "text": [
      "1274.216448\n"
     ]
    }
   ],
   "source": [
    "print(X_train.size*X_train.itemsize*0.000001)"
   ]
  },
  {
   "cell_type": "markdown",
   "id": "58433912",
   "metadata": {},
   "source": [
    "# Loading in validation data"
   ]
  },
  {
   "cell_type": "code",
   "execution_count": 3,
   "id": "efd54ba5",
   "metadata": {},
   "outputs": [],
   "source": [
    "X_val = val_ds.images.numpy()\n",
    "y_val = val_ds.labels.data()\n",
    "val_labels = list(chain.from_iterable(val_ds.labels.data()['text']))"
   ]
  },
  {
   "cell_type": "code",
   "execution_count": 8,
   "id": "1f75e63d",
   "metadata": {},
   "outputs": [
    {
     "name": "stdout",
     "output_type": "stream",
     "text": [
      "121.11052799999999\n"
     ]
    }
   ],
   "source": [
    "print(X_val.size*X_val.itemsize*0.000001)"
   ]
  },
  {
   "cell_type": "markdown",
   "id": "6045f97b",
   "metadata": {},
   "source": [
    "# Manipulating training and validation picture format for training Random Forest model"
   ]
  },
  {
   "cell_type": "markdown",
   "id": "784a87bc",
   "metadata": {},
   "source": [
    "# Helper functions and image preprocessing"
   ]
  },
  {
   "cell_type": "code",
   "execution_count": 27,
   "id": "e89375c8",
   "metadata": {},
   "outputs": [],
   "source": [
    "# helper functions\n",
    "# for creating a log_bar and logging it to WandB\n",
    "# for creating a histogram and logging it to WandB\n",
    "\n",
    "def log_bar(x, y, title, x_name=\"x\", y_name=\"y\", keep_order=False):\n",
    "    if keep_order:\n",
    "        x = [f\"{idx}: {x_}\" for idx, x_ in enumerate(x)] # Make sure alphabetical sorting works\n",
    "    table = wandb.Table(\n",
    "        data=[[x, y] for x, y in zip(x, y)],\n",
    "        columns=[x_name, y_name]\n",
    "    )\n",
    "    wandb.log({title: wandb.plot.bar(table, x_name, y_name, title=title)})\n",
    "\n",
    "\n",
    "def create_histogram(data, min_value=None, max_value=None, bins=10):\n",
    "    if min_value is None:\n",
    "        min_value = data.min()\n",
    "    if max_value is None:\n",
    "        max_value = data.max()\n",
    "\n",
    "    if isinstance(bins, int):\n",
    "        bin_edges = np.linspace(min_value, max_value, num=bins)\n",
    "    else:\n",
    "        bin_edges = bins\n",
    "        \n",
    "    numbers, _ = np.histogram(data, bins=bin_edges)\n",
    "    bin_names = [f\"{lower:.1f}-{upper:.1f}\" for lower, upper in zip(bin_edges[:-1], bin_edges[1:])]\n",
    "\n",
    "    return bin_names, numbers"
   ]
  },
  {
   "cell_type": "code",
   "execution_count": 54,
   "id": "c366c8fb",
   "metadata": {},
   "outputs": [
    {
     "data": {
      "text/html": [
       "Tracking run with wandb version 0.13.6"
      ],
      "text/plain": [
       "<IPython.core.display.HTML object>"
      ]
     },
     "metadata": {},
     "output_type": "display_data"
    },
    {
     "data": {
      "text/html": [
       "Run data is saved locally in <code>D:\\Kurs 3 - AI-ML-principer för datadrivna organisationer\\Inlämning1\\wandb\\run-20221214_115408-2oqkjef9</code>"
      ],
      "text/plain": [
       "<IPython.core.display.HTML object>"
      ]
     },
     "metadata": {},
     "output_type": "display_data"
    },
    {
     "data": {
      "text/html": [
       "Syncing run <strong><a href=\"https://wandb.ai/mark-eszaros/inlamning1TEST/runs/2oqkjef9\" target=\"_blank\">preprocessing 2022-12-14 11:54:08</a></strong> to <a href=\"https://wandb.ai/mark-eszaros/inlamning1TEST\" target=\"_blank\">Weights & Biases</a> (<a href=\"https://wandb.me/run\" target=\"_blank\">docs</a>)<br/>"
      ],
      "text/plain": [
       "<IPython.core.display.HTML object>"
      ]
     },
     "metadata": {},
     "output_type": "display_data"
    }
   ],
   "source": [
    "# date and time \n",
    "date_and_time = datetime.now().strftime(\"%Y-%m-%d %H:%M:%S\")\n",
    "\n",
    "# initializing connection to WandB to upload some logs about the data\n",
    "wandb_run = wandb.init(\n",
    "    project=\"inlamning1\",\n",
    "    name=f\"preprocessing {date_and_time}\"\n",
    ")"
   ]
  },
  {
   "cell_type": "markdown",
   "id": "734f7ae8",
   "metadata": {},
   "source": [
    "# Graph for the label counts: how many pictures do we have from each category in the training and validation data"
   ]
  },
  {
   "cell_type": "code",
   "execution_count": 28,
   "id": "60270908",
   "metadata": {},
   "outputs": [
    {
     "data": {
      "text/plain": [
       "Counter({'Background': 2228,\n",
       "         'Efflorescence': 348,\n",
       "         'Crack': 2208,\n",
       "         'Spallation': 1415,\n",
       "         'CorrosionStain': 190,\n",
       "         'ExposedBars': 92})"
      ]
     },
     "execution_count": 28,
     "metadata": {},
     "output_type": "execute_result"
    }
   ],
   "source": [
    "Counter(train_labels)"
   ]
  },
  {
   "cell_type": "code",
   "execution_count": 55,
   "id": "d98f91aa",
   "metadata": {},
   "outputs": [],
   "source": [
    "# labels visualizing\n",
    "\n",
    "def label_visualizing(label_list, text):\n",
    "    num_images_per_label = Counter(label_list)\n",
    "    x, num_images = zip(*((str(x_), num_) for x_, num_ in sorted(num_images_per_label.items())))\n",
    "    log_bar(x, num_images, f\"Labels in {text} data\", x_name=\"Label\", y_name=\"# images\")\n",
    "    \n",
    "label_visualizing(train_labels, 'training')\n",
    "label_visualizing(val_labels, 'validation')"
   ]
  },
  {
   "cell_type": "markdown",
   "id": "ba2692ab",
   "metadata": {},
   "source": [
    "# Example images from training set"
   ]
  },
  {
   "cell_type": "code",
   "execution_count": 56,
   "id": "332a6d6c",
   "metadata": {},
   "outputs": [],
   "source": [
    "def image_displayer(pic_list):\n",
    "#     pics_to_display = []\n",
    "#     for pic_id in pic_list:        \n",
    "    pics_to_display = [wandb.Image(X_train[id], caption=f\"Training sample {id} is a type {train_labels[id]}\") for id in pic_list]\n",
    "    wandb.log({\"Example images\": pics_to_display})\n",
    "    \n",
    "example_pic_list = [0, 3400, 4300, 2605, 2244, 3845]\n",
    "image_displayer(example_pic_list)"
   ]
  },
  {
   "cell_type": "markdown",
   "id": "94fb0856",
   "metadata": {},
   "source": [
    "# Ambiguous label examples"
   ]
  },
  {
   "cell_type": "code",
   "execution_count": 57,
   "id": "a78f22e6",
   "metadata": {},
   "outputs": [],
   "source": [
    "def ambi_display(pic_list):\n",
    "    pics_to_display = [wandb.Image(X_val[id], caption=f\"Crack or Spallation? Label is: {val_labels[id]}\") for id in pic_list]\n",
    "    wandb.log({\"Ambiguous categories\": pics_to_display})\n",
    "    \n",
    "ambi_pic_list = [158, 423, 292, 261]\n",
    "ambi_display(ambi_pic_list)"
   ]
  },
  {
   "cell_type": "markdown",
   "id": "c7edf930",
   "metadata": {},
   "source": [
    "# Adding data summary to the project description"
   ]
  },
  {
   "cell_type": "code",
   "execution_count": 58,
   "id": "fae69823",
   "metadata": {},
   "outputs": [],
   "source": [
    "# RGB values\n",
    "r = X_train[:,:,:,0]\n",
    "g = X_train[:,:,:,1]\n",
    "b = X_train[:,:,:,2]"
   ]
  },
  {
   "cell_type": "code",
   "execution_count": 59,
   "id": "4f2f6d36",
   "metadata": {},
   "outputs": [],
   "source": [
    "# Adding a summary log to the PROJECTS description\n",
    "# Log the datasets minimum and maximum intensities and datatype to the WandB summary\n",
    "\n",
    "min_value = min(X_train.min(), X_val.min())\n",
    "max_value = max(X_train.max(), X_val.max())\n",
    "wandb_run.summary[\"raw\"] = {\"min\": min_value, \"max\": max_value, \"dtype\": str(X_train.dtype)}\n",
    "\n",
    "# Create a new histogram of the image pixels intensities\n",
    "# Red\n",
    "bin_names, train_hist = create_histogram(r)\n",
    "log_bar(bin_names, train_hist, \"Training data red pixels\", x_name=\"red_value_bins\", y_name=\"# pixels\", keep_order=True)\n",
    "# Green\n",
    "bin_names, train_hist = create_histogram(g)\n",
    "log_bar(bin_names, train_hist, \"Training data green pixels\", x_name=\"green_value_bins\", y_name=\"# pixels\", keep_order=True)\n",
    "# Blue\n",
    "bin_names, train_hist = create_histogram(b)\n",
    "log_bar(bin_names, train_hist, \"Training data blue pixels\", x_name=\"blue_value_bins\", y_name=\"# pixels\", keep_order=True)"
   ]
  },
  {
   "cell_type": "markdown",
   "id": "f2ad1027",
   "metadata": {},
   "source": [
    "# Logging the average pixel intensity for the whole training image dataset"
   ]
  },
  {
   "cell_type": "code",
   "execution_count": null,
   "id": "ac42bc04",
   "metadata": {},
   "outputs": [],
   "source": [
    "# NOTE use this cell for the grayscale image preprocessing!\n",
    "# greying the pictures\n",
    "X_train=rgb2gray(X_train)\n",
    "# resampling the values from 0-255\n",
    "X_train = (X_train*255).astype('uint8')\n",
    "\n",
    "# NOTE use this cell for the grayscale image preprocessing!\n",
    "# greying the pictures\n",
    "X_val=rgb2gray(X_val)\n",
    "# resampling the values from 0-255\n",
    "X_val = (X_val*255).astype('uint8')\n",
    "\n",
    "# white_values \n",
    "# NOTE this line only works if we did the grayscale transformation!\n",
    "bin_names, train_hist = create_histogram(X_train)\n",
    "log_bar(bin_names, train_hist, \"Training data white pixels\", x_name=\"white_value_bins\", y_name=\"# pixels\", keep_order=True)"
   ]
  },
  {
   "cell_type": "code",
   "execution_count": 81,
   "id": "35af33e6",
   "metadata": {},
   "outputs": [
    {
     "data": {
      "image/png": "[encoded data removed]",
      "text/plain": [
       "<Figure size 432x288 with 1 Axes>"
      ]
     },
     "metadata": {
      "needs_background": "light"
     },
     "output_type": "display_data"
    }
   ],
   "source": [
    "# Create a heatmap over all active RBG pixels from all frames\n",
    "heatmap = np.mean(X_train, axis=0)\n",
    "plt.imshow(heatmap)\n",
    "wandb.log({\"Heatmap of training images\": wandb.Image(heatmap, caption=\"The mean of all images in the training set\")})\n",
    "\n",
    "# # Log a histogram of the average value for each pixel through out the\n",
    "# # training dataset. This shows us how many of the pixels that are\n",
    "# # always zero in all frames.\n",
    "bin_names, heatmap_hist = create_histogram(heatmap.flatten(), bins=np.linspace(0,255,32))\n",
    "log_bar(bin_names, heatmap_hist, \"Average value per pixel in training data\", x_name=\"bin\", y_name=\"# pixels\", keep_order=True)"
   ]
  },
  {
   "cell_type": "code",
   "execution_count": 82,
   "id": "a3379b05",
   "metadata": {},
   "outputs": [
    {
     "data": {
      "text/html": [
       "Waiting for W&B process to finish... <strong style=\"color:green\">(success).</strong>"
      ],
      "text/plain": [
       "<IPython.core.display.HTML object>"
      ]
     },
     "metadata": {},
     "output_type": "display_data"
    },
    {
     "data": {
      "application/vnd.jupyter.widget-view+json": {
       "model_id": "cdc7a8f682ce4e6198da47560dc410d9",
       "version_major": 2,
       "version_minor": 0
      },
      "text/plain": [
       "VBox(children=(Label(value='0.607 MB of 0.644 MB uploaded (0.000 MB deduped)\\r'), FloatProgress(value=0.942678…"
      ]
     },
     "metadata": {},
     "output_type": "display_data"
    },
    {
     "data": {
      "text/html": [
       "Synced <strong style=\"color:#cdcd00\">preprocessing 2022-12-14 11:54:08</strong>: <a href=\"https://wandb.ai/mark-eszaros/inlamning1TEST/runs/2oqkjef9\" target=\"_blank\">https://wandb.ai/mark-eszaros/inlamning1TEST/runs/2oqkjef9</a><br/>Synced 6 W&B file(s), 18 media file(s), 7 artifact file(s) and 0 other file(s)"
      ],
      "text/plain": [
       "<IPython.core.display.HTML object>"
      ]
     },
     "metadata": {},
     "output_type": "display_data"
    },
    {
     "data": {
      "text/html": [
       "Find logs at: <code>.\\wandb\\run-20221214_115408-2oqkjef9\\logs</code>"
      ],
      "text/plain": [
       "<IPython.core.display.HTML object>"
      ]
     },
     "metadata": {},
     "output_type": "display_data"
    }
   ],
   "source": [
    "# finishing wandb seccion\n",
    "wandb.finish()"
   ]
  }
 ],
 "metadata": {
  "kernelspec": {
   "display_name": "Python 3 (ipykernel)",
   "language": "python",
   "name": "python3"
  },
  "language_info": {
   "codemirror_mode": {
    "name": "ipython",
    "version": 3
   },
   "file_extension": ".py",
   "mimetype": "text/x-python",
   "name": "python",
   "nbconvert_exporter": "python",
   "pygments_lexer": "ipython3",
   "version": "3.9.12"
  }
 },
 "nbformat": 4,
 "nbformat_minor": 5
}
