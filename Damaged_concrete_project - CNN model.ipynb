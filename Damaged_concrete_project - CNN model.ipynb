{
 "cells": [
  {
   "cell_type": "markdown",
   "id": "41695d22",
   "metadata": {},
   "source": [
    "# CNN model"
   ]
  },
  {
   "cell_type": "code",
   "execution_count": 1,
   "id": "6e449720",
   "metadata": {},
   "outputs": [],
   "source": [
    "import deeplake\n",
    "from skimage.color import rgb2gray\n",
    "import numpy as np\n",
    "from PIL import Image\n",
    "from sklearn import svm\n",
    "from sklearn.model_selection import cross_val_score, cross_validate\n",
    "from sklearn.ensemble import RandomForestClassifier\n",
    "from sklearn.metrics import recall_score\n",
    "from sklearn import metrics\n",
    "import sklearn\n",
    "import time\n",
    "import sys\n",
    "from IPython.display import clear_output\n",
    "from tensorflow import keras\n",
    "from tensorflow.keras import layers\n",
    "import tensorflow as tf\n",
    "import wandb\n",
    "from wandb.keras import WandbCallback\n",
    "import matplotlib.pyplot as plt\n",
    "from datetime import datetime\n",
    "from collections import Counter\n",
    "from itertools import chain\n",
    "clear_output()"
   ]
  },
  {
   "cell_type": "code",
   "execution_count": 2,
   "id": "b554107c",
   "metadata": {},
   "outputs": [],
   "source": [
    "date_and_time = datetime.now().strftime(\"%Y-%m-%d %H:%M:%S\")"
   ]
  },
  {
   "cell_type": "code",
   "execution_count": 3,
   "id": "618e2319",
   "metadata": {},
   "outputs": [
    {
     "name": "stdout",
     "output_type": "stream",
     "text": [
      "hub://luizapzbn/CODEBRIM_classification_dataset-val loaded successfully.\n",
      "This dataset can be visualized in Jupyter Notebook by ds.visualize() or at https://app.activeloop.ai/luizapzbn/CODEBRIM_classification_dataset-val\n",
      "hub://luizapzbn/CODEBRIM_classification_dataset-train loaded successfully.\n",
      "This dataset can be visualized in Jupyter Notebook by ds.visualize() or at https://app.activeloop.ai/luizapzbn/CODEBRIM_classification_dataset-train\n"
     ]
    }
   ],
   "source": [
    "val_ds = deeplake.load('hub://luizapzbn/CODEBRIM_classification_dataset-val')\n",
    "train_ds = deeplake.load('hub://luizapzbn/CODEBRIM_classification_dataset-train')"
   ]
  },
  {
   "cell_type": "markdown",
   "id": "c09706b1",
   "metadata": {},
   "source": [
    "# Loading in the datasets and normalizing them"
   ]
  },
  {
   "cell_type": "code",
   "execution_count": 4,
   "id": "fb32c8f7",
   "metadata": {},
   "outputs": [],
   "source": [
    "# train set\n",
    "X_train = (train_ds.images.numpy()/255).astype('float32')\n",
    "y_train = train_ds.labels.data()\n",
    "train_labels = list(chain.from_iterable(train_ds.labels.data()['text']))\n",
    "\n",
    "# validation data\n",
    "X_val = (val_ds.images.numpy()/255).astype('float32')\n",
    "y_val = val_ds.labels.data()\n",
    "val_labels = list(chain.from_iterable(val_ds.labels.data()['text']))\n",
    "\n",
    "# Label values and label texts\n",
    "y_train_vals = y_train['value']\n",
    "y_train_text = y_train['text']\n",
    "y_val_vals = y_val['value']\n",
    "y_val_text = y_val['text']"
   ]
  },
  {
   "cell_type": "markdown",
   "id": "11c50520",
   "metadata": {},
   "source": [
    "## Model for RGB pictures - 6 classes"
   ]
  },
  {
   "cell_type": "code",
   "execution_count": 5,
   "id": "0a20af32",
   "metadata": {},
   "outputs": [],
   "source": [
    "def create_cnn(input_shape, output_classes):\n",
    "    return keras.Sequential(\n",
    "        [                                                       \n",
    "            keras.Input(shape=input_shape),\n",
    "            layers.Conv2D(32, kernel_size=(3, 3), activation=\"relu\", input_shape=(256, 256, 3)),\n",
    "            layers.MaxPooling2D(pool_size=(2, 2)),\n",
    "            layers.Conv2D(64, kernel_size=(3, 3), activation=\"relu\", input_shape=(256, 256, 3)),\n",
    "            layers.MaxPooling2D(pool_size=(2, 2)),\n",
    "            layers.Flatten(),\n",
    "            layers.Dense(output_classes, activation=\"softmax\")\n",
    "        ]\n",
    "    )"
   ]
  },
  {
   "cell_type": "code",
   "execution_count": 7,
   "id": "b8bea4b6",
   "metadata": {},
   "outputs": [],
   "source": [
    "# # convert class vectors to binary class matrices\n",
    "num_classes = 6\n",
    "y_train_vals = keras.utils.to_categorical(y_train_vals, num_classes)\n",
    "y_val_vals = keras.utils.to_categorical(y_val_vals, num_classes)"
   ]
  },
  {
   "cell_type": "code",
   "execution_count": 9,
   "id": "b006ada4",
   "metadata": {},
   "outputs": [],
   "source": [
    "batch_size = 0\n",
    "epochs = 5"
   ]
  },
  {
   "cell_type": "code",
   "execution_count": 18,
   "id": "97f2b106",
   "metadata": {
    "scrolled": false
   },
   "outputs": [],
   "source": [
    "wandb.init(project=\"inlamning1V1\", name=f\"preprocessing {date_and_time}\", config = {\n",
    "    \"training_type\": 'Convolutional Neural Network',\n",
    "    \"learning_rate\": 0.001,\n",
    "    \"epochs\": epochs,\n",
    "    \"batch_size\": batch_size\n",
    "    })\n",
    "\n",
    "\n",
    "# Create a Convolutional Neural Network that\n",
    "model = create_cnn((256, 256, 3), 6)\n",
    "\n",
    "model.compile(loss=\"categorical_crossentropy\",\n",
    "              optimizer=\"adam\", metrics=[\"accuracy\"])\n",
    "model.fit(X_train, y_train_vals, batch_size=batch_size,\n",
    "          epochs=epochs, validation_split=0.1, callbacks=[wandb.keras.WandbCallback()])"
   ]
  },
  {
   "cell_type": "code",
   "execution_count": null,
   "id": "4cc7ad6b",
   "metadata": {},
   "outputs": [],
   "source": [
    "class_names = ['Background', 'Efflorescence', 'Crack', 'Spallation', 'CorrosionStain', 'ExposedBars']\n",
    "\n",
    "# Precision recall curve\n",
    "wandb.log({\"pr\": wandb.plot.pr_curve(val_labels, predictions_cnn)})\n",
    "# ROC curve\n",
    "wandb.log({\"roc\": wandb.plot.roc_curve(val_labels, predictions_cnn)})\n",
    "# Confusion matrix\n",
    "cm = wandb.plot.confusion_matrix(\n",
    "    y_true=y_val_vals,\n",
    "    preds=predictions_cnn,\n",
    "    class_names=class_names)\n",
    "    \n",
    "wandb.log({\"conf_mat\": cm})\n",
    "\n",
    "wandb.finish()"
   ]
  },
  {
   "cell_type": "markdown",
   "id": "d849ebd8",
   "metadata": {},
   "source": [
    "## CNN - Grayscale images"
   ]
  },
  {
   "cell_type": "code",
   "execution_count": 11,
   "id": "ebd34ce1",
   "metadata": {},
   "outputs": [],
   "source": [
    "# greying the pictures\n",
    "X_train=rgb2gray(X_train)\n",
    "X_val=rgb2gray(X_val)"
   ]
  },
  {
   "cell_type": "code",
   "execution_count": 12,
   "id": "07d9cc04",
   "metadata": {},
   "outputs": [
    {
     "data": {
      "text/plain": [
       "(6481, 6)"
      ]
     },
     "execution_count": 12,
     "metadata": {},
     "output_type": "execute_result"
    }
   ],
   "source": [
    "y_train_vals_extended = np.eye(6)[y_train_vals.reshape(-1)].reshape(6481, 6)\n",
    "y_train_vals_extended.shape"
   ]
  },
  {
   "cell_type": "code",
   "execution_count": 13,
   "id": "98a0e6e0",
   "metadata": {},
   "outputs": [],
   "source": [
    "# # Make sure images have shape (256, 256, 1)\n",
    "X_train = np.expand_dims(X_train, -1)\n",
    "X_val = np.expand_dims(X_val, -1)"
   ]
  },
  {
   "cell_type": "markdown",
   "id": "90a40ee9",
   "metadata": {},
   "source": [
    "## Model for grayscale images - 6 classes "
   ]
  },
  {
   "cell_type": "code",
   "execution_count": 8,
   "id": "504df477",
   "metadata": {},
   "outputs": [],
   "source": [
    "def create_cnn(input_shape, output_classes):\n",
    "    return keras.Sequential(\n",
    "        [\n",
    "            keras.Input(shape=input_shape),\n",
    "            layers.Conv2D(32, kernel_size=(3, 3), activation=\"relu\", input_shape=(256, 256, 1)),\n",
    "            layers.MaxPooling2D(pool_size=(2, 2)),\n",
    "            layers.Conv2D(64, kernel_size=(3, 3), activation=\"relu\", input_shape=(256, 256, 1)),\n",
    "            layers.MaxPooling2D(pool_size=(2, 2)),\n",
    "            layers.Flatten(),\n",
    "            layers.Dense(output_classes, activation=\"softmax\")\n",
    "        ]\n",
    "    )"
   ]
  },
  {
   "cell_type": "code",
   "execution_count": 9,
   "id": "c318d944",
   "metadata": {},
   "outputs": [],
   "source": [
    "batch_size = 0\n",
    "epochs = 5"
   ]
  },
  {
   "cell_type": "code",
   "execution_count": 20,
   "id": "495d3889",
   "metadata": {},
   "outputs": [],
   "source": [
    "wandb.init(project=\"inlamning1TEST\", name=f\"preprocessing {date_and_time}\", config = {\n",
    "    \"training_type\": 'Convolutional Neural Network',\n",
    "    \"learning_rate\": 0.001,\n",
    "    \"epochs\": epochs,\n",
    "    \"batch_size\": batch_size\n",
    "    })\n",
    "\n",
    "\n",
    "# Create a Convolutional Neural Network that\n",
    "model = create_cnn((256, 256, 1), 6)\n",
    "\n",
    "model.compile(loss=\"categorical_crossentropy\",\n",
    "              optimizer=\"adam\", metrics=[\"accuracy\"])\n",
    "model.fit(X_train, y_train_vals_extended, batch_size=batch_size,\n",
    "          epochs=epochs, validation_split=0.1, callbacks=[wandb.keras.WandbCallback()])"
   ]
  },
  {
   "cell_type": "markdown",
   "id": "59b4157c",
   "metadata": {},
   "source": [
    "## Predictions"
   ]
  },
  {
   "cell_type": "code",
   "execution_count": 11,
   "id": "c1763ec7",
   "metadata": {},
   "outputs": [
    {
     "name": "stdout",
     "output_type": "stream",
     "text": [
      "20/20 [==============================] - 0s 10ms/step\n"
     ]
    }
   ],
   "source": [
    "predictions_cnn = model.predict(X_val)\n",
    "# prediction to list\n",
    "pred_list = [np.argmax(x) for x in predictions_cnn]\n",
    "# y_val_vals to list\n",
    "y_val_vals_list = list(chain.from_iterable(y_val_vals))"
   ]
  },
  {
   "cell_type": "markdown",
   "id": "4478bfbb",
   "metadata": {},
   "source": [
    "# Evaluation"
   ]
  },
  {
   "cell_type": "code",
   "execution_count": null,
   "id": "da55b926",
   "metadata": {},
   "outputs": [
    {
     "data": {
      "text/html": [
       "Waiting for W&B process to finish... <strong style=\"color:green\">(success).</strong>"
      ],
      "text/plain": [
       "<IPython.core.display.HTML object>"
      ]
     },
     "metadata": {},
     "output_type": "display_data"
    }
   ],
   "source": [
    "class_names = ['Background', 'Efflorescence', 'Crack', 'Spallation', 'CorrosionStain', 'ExposedBars']\n",
    "\n",
    "# Precision recall curve\n",
    "wandb.log({\"pr\": wandb.plot.pr_curve(val_labels, predictions_cnn)})\n",
    "# ROC curve\n",
    "wandb.log({\"roc\": wandb.plot.roc_curve(val_labels, predictions_cnn)})\n",
    "# Confusion matrix\n",
    "cm = wandb.plot.confusion_matrix(\n",
    "    y_true=y_val_vals_list,\n",
    "    preds=pred_list,\n",
    "    class_names=class_names)\n",
    "    \n",
    "wandb.log({\"conf_mat\": cm})\n",
    "\n",
    "wandb.finish()"
   ]
  },
  {
   "cell_type": "markdown",
   "id": "9a6486f6",
   "metadata": {},
   "source": [
    "## Model for grayscale images - 2 classes"
   ]
  },
  {
   "cell_type": "code",
   "execution_count": 14,
   "id": "f68c04d4",
   "metadata": {},
   "outputs": [
    {
     "name": "stdout",
     "output_type": "stream",
     "text": [
      "Binary values:  Counter({1: 4253, 0: 2228})\n",
      "Binary texts:  Counter({'Damaged': 4253, 'Not damaged': 2228})\n",
      "Binary values:  Counter({1: 461, 0: 155})\n",
      "Binary texts:  Counter({'Damaged': 461, 'Not damaged': 155})\n"
     ]
    }
   ],
   "source": [
    "y_train_binary_value = np.where(y_train_vals!=[0], [1], [0])\n",
    "print('Binary values: ', Counter(list(chain.from_iterable(y_train_binary_value))))\n",
    "\n",
    "y_train_binary_text = np.where(np.array(y_train_text)!=['Background'], ['Damaged'], ['Not damaged'])\n",
    "print('Binary texts: ', Counter(list(chain.from_iterable(y_train_binary_text))))\n",
    "\n",
    "y_val_binary_value = np.where(y_val_vals!=[0], [1], [0])\n",
    "print('Binary values: ', Counter(list(chain.from_iterable(y_val_binary_value))))\n",
    "\n",
    "y_val_binary_text = np.where(np.array(y_val_text)!=['Background'], ['Damaged'], ['Not damaged'])\n",
    "print('Binary texts: ', Counter(list(chain.from_iterable(y_val_binary_text))))"
   ]
  },
  {
   "cell_type": "code",
   "execution_count": 15,
   "id": "2fd83bf2",
   "metadata": {},
   "outputs": [],
   "source": [
    "def create_cnn(input_shape, output_classes):\n",
    "    return keras.Sequential(\n",
    "        [\n",
    "            keras.Input(shape=input_shape),\n",
    "            layers.Conv2D(32, kernel_size=(3, 3), activation=\"relu\", input_shape=(256, 256, 1)),\n",
    "            layers.MaxPooling2D(pool_size=(2, 2)),\n",
    "            layers.Conv2D(64, kernel_size=(3, 3), activation=\"relu\", input_shape=(256, 256, 1)),\n",
    "            layers.MaxPooling2D(pool_size=(2, 2)),\n",
    "            layers.Flatten(),\n",
    "            layers.Dense(output_classes, activation=\"softmax\")\n",
    "        ]\n",
    "    )"
   ]
  },
  {
   "cell_type": "code",
   "execution_count": 16,
   "id": "76d66f90",
   "metadata": {},
   "outputs": [],
   "source": [
    "# # convert class vectors to binary class matrices\n",
    "num_classes = 2\n",
    "y_train_binary_value = keras.utils.to_categorical(y_train_binary_value, num_classes)\n",
    "y_val_binary_value = keras.utils.to_categorical(y_val_binary_value, num_classes)\n",
    "# y_val_text = keras.utils.to_categorical(y_val_text, num_classes)"
   ]
  },
  {
   "cell_type": "code",
   "execution_count": 17,
   "id": "2b17a7fa",
   "metadata": {},
   "outputs": [],
   "source": [
    "batch_size = 0\n",
    "epochs = 5\n",
    "date_and_time = datetime.now().strftime(\"%Y-%m-%d %H:%M:%S\")"
   ]
  },
  {
   "cell_type": "code",
   "execution_count": 19,
   "id": "c2e83d5c",
   "metadata": {
    "scrolled": false
   },
   "outputs": [],
   "source": [
    "wandb.init(project=\"inlamning1TEST\", name=f\"preprocessing {date_and_time}\", config = {\n",
    "    \"training_type\": 'Convolutional Neural Network',\n",
    "    \"learning_rate\": 0.001,\n",
    "    \"epochs\": epochs,\n",
    "    \"batch_size\": batch_size\n",
    "    })\n",
    "\n",
    "\n",
    "# Create a Convolutional Neural Network that\n",
    "model = create_cnn((256, 256, 1), 2)\n",
    "\n",
    "model.compile(loss=\"categorical_crossentropy\",\n",
    "              optimizer=\"adam\", metrics=[\"accuracy\"])\n",
    "model.fit(X_train, y_train_binary_value, batch_size=batch_size,\n",
    "          epochs=epochs, validation_split=0.1, callbacks=[wandb.keras.WandbCallback()])"
   ]
  },
  {
   "cell_type": "markdown",
   "id": "745a6ef0",
   "metadata": {},
   "source": [
    "## Predictions"
   ]
  },
  {
   "cell_type": "code",
   "execution_count": null,
   "id": "5f2572ad",
   "metadata": {},
   "outputs": [],
   "source": [
    "predictions_cnn = model.predict(X_val)\n",
    "# prediction to list\n",
    "pred_list = [np.argmax(x) for x in predictions_cnn]\n",
    "# y_val_vals to list\n",
    "y_val_vals_list = list(chain.from_iterable(y_val_vals))"
   ]
  },
  {
   "cell_type": "markdown",
   "id": "d41c91ee",
   "metadata": {},
   "source": [
    "# Evaluation"
   ]
  },
  {
   "cell_type": "code",
   "execution_count": null,
   "id": "bba4883c",
   "metadata": {},
   "outputs": [],
   "source": [
    "class_names = ['Background', 'Efflorescence', 'Crack', 'Spallation', 'CorrosionStain', 'ExposedBars']\n",
    "\n",
    "# Precision recall curve\n",
    "wandb.log({\"pr\": wandb.plot.pr_curve(val_labels, predictions_cnn)})\n",
    "# ROC curve\n",
    "wandb.log({\"roc\": wandb.plot.roc_curve(val_labels, predictions_cnn)})\n",
    "# Confusion matrix\n",
    "cm = wandb.plot.confusion_matrix(\n",
    "    y_true=y_val_vals_list,\n",
    "    preds=pred_list,\n",
    "    class_names=class_names)\n",
    "    \n",
    "wandb.log({\"conf_mat\": cm})\n",
    "\n",
    "wandb.finish()"
   ]
  }
 ],
 "metadata": {
  "kernelspec": {
   "display_name": "Python 3 (ipykernel)",
   "language": "python",
   "name": "python3"
  },
  "language_info": {
   "codemirror_mode": {
    "name": "ipython",
    "version": 3
   },
   "file_extension": ".py",
   "mimetype": "text/x-python",
   "name": "python",
   "nbconvert_exporter": "python",
   "pygments_lexer": "ipython3",
   "version": "3.9.12"
  }
 },
 "nbformat": 4,
 "nbformat_minor": 5
}
